{
  "nbformat": 4,
  "nbformat_minor": 0,
  "metadata": {
    "colab": {
      "provenance": [],
      "authorship_tag": "ABX9TyNpnwh7J3siIB0ZiG35jC76",
      "include_colab_link": true
    },
    "kernelspec": {
      "name": "python3",
      "display_name": "Python 3"
    },
    "language_info": {
      "name": "python"
    }
  },
  "cells": [
    {
      "cell_type": "markdown",
      "metadata": {
        "id": "view-in-github",
        "colab_type": "text"
      },
      "source": [
        "<a href=\"https://colab.research.google.com/github/ValeriaYashan/Programacion/blob/main/Calculadora.ipynb\" target=\"_parent\"><img src=\"https://colab.research.google.com/assets/colab-badge.svg\" alt=\"Open In Colab\"/></a>"
      ]
    },
    {
      "cell_type": "code",
      "source": [
        "# Funciones de la calculadora\n",
        "def suma(num1, num2):\n",
        "    return num1 + num2"
      ],
      "metadata": {
        "id": "G9y9bW7Z7694"
      },
      "execution_count": null,
      "outputs": []
    },
    {
      "cell_type": "code",
      "source": [
        "def resta(num1, num2):\n",
        "    return num1 - num2\n"
      ],
      "metadata": {
        "id": "iLZRaEX178mz"
      },
      "execution_count": null,
      "outputs": []
    },
    {
      "cell_type": "code",
      "source": [
        "def multiplicacion(num1, num2):\n",
        "    return num1 * num2\n"
      ],
      "metadata": {
        "id": "HrIOpvTV7_JD"
      },
      "execution_count": null,
      "outputs": []
    },
    {
      "cell_type": "code",
      "source": [
        "def division(num1, num2):\n",
        "    return num1 / num2"
      ],
      "metadata": {
        "id": "2cHYs2PC8ExN"
      },
      "execution_count": null,
      "outputs": []
    },
    {
      "cell_type": "code",
      "source": [
        "# Menú principal\n",
        "print(\"Por favor, elige una operación:\")\n",
        "print(\"1. Suma\")\n",
        "print(\"2. Resta\")\n",
        "print(\"3. Multiplicación\")\n",
        "print(\"4. División\")\n"
      ],
      "metadata": {
        "colab": {
          "base_uri": "https://localhost:8080/"
        },
        "id": "SHhA9mQ58IQt",
        "outputId": "6ef06eac-44e2-4842-e5e0-d8def71c1892"
      },
      "execution_count": null,
      "outputs": [
        {
          "output_type": "stream",
          "name": "stdout",
          "text": [
            "Por favor, elige una operación:\n",
            "1. Suma\n",
            "2. Resta\n",
            "3. Multiplicación\n",
            "4. División\n"
          ]
        }
      ]
    },
    {
      "cell_type": "code",
      "source": [
        "# Solicitar al usuario que ingrese la opción\n",
        "opcion = input(\"Ingresa una opción (1/2/3/4): \")\n"
      ],
      "metadata": {
        "colab": {
          "base_uri": "https://localhost:8080/"
        },
        "id": "LrMOjwoH8LMC",
        "outputId": "09a837f6-3339-4601-e420-aa701af19581"
      },
      "execution_count": null,
      "outputs": [
        {
          "name": "stdout",
          "output_type": "stream",
          "text": [
            "Ingresa una opción (1/2/3/4): 1\n"
          ]
        }
      ]
    },
    {
      "cell_type": "code",
      "source": [
        "# Solicitar al usuario que ingrese los números\n",
        "num1 = float(input(\"Ingresa el primer número: \"))\n",
        "num2 = float(input(\"Ingresa el segundo número: \"))"
      ],
      "metadata": {
        "colab": {
          "base_uri": "https://localhost:8080/"
        },
        "id": "NEK5hr2S8Msp",
        "outputId": "0a0199ac-e16f-480e-b583-5179fb8a5d54"
      },
      "execution_count": null,
      "outputs": [
        {
          "name": "stdout",
          "output_type": "stream",
          "text": [
            "Ingresa el primer número: 1\n",
            "Ingresa el segundo número: 2\n"
          ]
        }
      ]
    },
    {
      "cell_type": "code",
      "source": [
        "# Realizar la operación seleccionada\n",
        "if opcion == '1':\n",
        "    print(num1, \"+\", num2, \"=\", suma(num1, num2))\n",
        "\n",
        "elif opcion == '2':\n",
        "    print(num1, \"-\", num2, \"=\", resta(num1, num2))\n",
        "\n",
        "elif opcion == '3':\n",
        "    print(num1, \"*\", num2, \"=\", multiplicacion(num1, num2))\n",
        "\n",
        "elif opcion == '4':\n",
        "    print(num1, \"/\", num2, \"=\", division(num1, num2))\n",
        "\n",
        "else:\n",
        "    print(\"Opción inválida\")"
      ],
      "metadata": {
        "colab": {
          "base_uri": "https://localhost:8080/"
        },
        "id": "aas7AoKo8Zny",
        "outputId": "96e64ba4-b248-417f-e1fc-144b37b0d97d"
      },
      "execution_count": null,
      "outputs": [
        {
          "output_type": "stream",
          "name": "stdout",
          "text": [
            "1.0 + 2.0 = 3.0\n"
          ]
        }
      ]
    }
  ]
}